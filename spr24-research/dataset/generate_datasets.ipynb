{
  "nbformat": 4,
  "nbformat_minor": 0,
  "metadata": {
    "colab": {
      "provenance": []
    },
    "kernelspec": {
      "name": "python3",
      "display_name": "Python 3"
    },
    "language_info": {
      "name": "python"
    }
  },
  "cells": [
    {
      "cell_type": "markdown",
      "source": [
        "# Step 0: Generating Training, Validating, and Testing Data\n",
        "\n",
        "This notebook is to show how [this dataset](https://www.kaggle.com/datasets/lonnieqin/englishspanish-translation-dataset) is converted to a  60-20-20 split for training, validating, and testing (respectively) the NMT models in the other notebooks."
      ],
      "metadata": {
        "id": "4XtEJX_qx0P_"
      }
    },
    {
      "cell_type": "code",
      "execution_count": 1,
      "metadata": {
        "id": "OE9mv2d4xbs8"
      },
      "outputs": [],
      "source": [
        "#@title Import dependencies\n",
        "import pandas as pd\n",
        "from string import punctuation\n",
        "import re\n",
        "import numpy as np\n",
        "import tensorflow as tf\n",
        "import os\n",
        "import time\n",
        "import random\n",
        "\n",
        "import matplotlib.pyplot as plt\n",
        "%matplotlib inline\n",
        "\n",
        "from tensorflow.keras.preprocessing.text import Tokenizer\n",
        "from tensorflow.keras.preprocessing.sequence import pad_sequences\n",
        "\n",
        "from sklearn.model_selection import train_test_split\n",
        "\n",
        "import unicodedata\n",
        "import io"
      ]
    },
    {
      "cell_type": "code",
      "source": [
        "#@title Set up paths\n",
        "DATA_FILEPATH = \"/content/sample_data/data.csv\"\n",
        "\n",
        "# Aux functions for importing dataset\n",
        "\n",
        "def load_doc(filepath):\n",
        "  \"\"\"\n",
        "  Input:\n",
        "    filepath  : (str) path to file from colab dir\n",
        "\n",
        "  Output:\n",
        "                (pd df)\n",
        "  \"\"\"\n",
        "  return pd.read_csv(filepath)\n"
      ],
      "metadata": {
        "id": "5Li3XFmDzjBj"
      },
      "execution_count": 2,
      "outputs": []
    },
    {
      "cell_type": "code",
      "source": [
        "#@title Load in the data\n",
        "data = load_doc(DATA_FILEPATH).sample(95000)\n",
        "data.head()"
      ],
      "metadata": {
        "colab": {
          "base_uri": "https://localhost:8080/",
          "height": 206
        },
        "id": "n-o6mn3kzoj0",
        "outputId": "405d261f-1ad3-49b2-d5b9-a339330ece57"
      },
      "execution_count": 3,
      "outputs": [
        {
          "output_type": "execute_result",
          "data": {
            "text/plain": [
              "                                              english  \\\n",
              "88516          It was a mistake to break up with you.   \n",
              "103227  We have to see how much cash we have on hand.   \n",
              "22596                            Why worry about Tom?   \n",
              "75490              Do you know how beautiful you are?   \n",
              "8872                                 Someone's there.   \n",
              "\n",
              "                                               spanish  \n",
              "88516                   Terminar contigo fue un error.  \n",
              "103227  Hay que ver cuánto efectivo tenemos a la mano.  \n",
              "22596                    ¿Por qué preocuparse por Tom?  \n",
              "75490                      ¿Sabes lo hermosa que eres?  \n",
              "8872                                Alguien está allí.  "
            ],
            "text/html": [
              "\n",
              "  <div id=\"df-d5d1405b-e3f5-4c8b-b972-2b4522c5b6bf\" class=\"colab-df-container\">\n",
              "    <div>\n",
              "<style scoped>\n",
              "    .dataframe tbody tr th:only-of-type {\n",
              "        vertical-align: middle;\n",
              "    }\n",
              "\n",
              "    .dataframe tbody tr th {\n",
              "        vertical-align: top;\n",
              "    }\n",
              "\n",
              "    .dataframe thead th {\n",
              "        text-align: right;\n",
              "    }\n",
              "</style>\n",
              "<table border=\"1\" class=\"dataframe\">\n",
              "  <thead>\n",
              "    <tr style=\"text-align: right;\">\n",
              "      <th></th>\n",
              "      <th>english</th>\n",
              "      <th>spanish</th>\n",
              "    </tr>\n",
              "  </thead>\n",
              "  <tbody>\n",
              "    <tr>\n",
              "      <th>88516</th>\n",
              "      <td>It was a mistake to break up with you.</td>\n",
              "      <td>Terminar contigo fue un error.</td>\n",
              "    </tr>\n",
              "    <tr>\n",
              "      <th>103227</th>\n",
              "      <td>We have to see how much cash we have on hand.</td>\n",
              "      <td>Hay que ver cuánto efectivo tenemos a la mano.</td>\n",
              "    </tr>\n",
              "    <tr>\n",
              "      <th>22596</th>\n",
              "      <td>Why worry about Tom?</td>\n",
              "      <td>¿Por qué preocuparse por Tom?</td>\n",
              "    </tr>\n",
              "    <tr>\n",
              "      <th>75490</th>\n",
              "      <td>Do you know how beautiful you are?</td>\n",
              "      <td>¿Sabes lo hermosa que eres?</td>\n",
              "    </tr>\n",
              "    <tr>\n",
              "      <th>8872</th>\n",
              "      <td>Someone's there.</td>\n",
              "      <td>Alguien está allí.</td>\n",
              "    </tr>\n",
              "  </tbody>\n",
              "</table>\n",
              "</div>\n",
              "    <div class=\"colab-df-buttons\">\n",
              "\n",
              "  <div class=\"colab-df-container\">\n",
              "    <button class=\"colab-df-convert\" onclick=\"convertToInteractive('df-d5d1405b-e3f5-4c8b-b972-2b4522c5b6bf')\"\n",
              "            title=\"Convert this dataframe to an interactive table.\"\n",
              "            style=\"display:none;\">\n",
              "\n",
              "  <svg xmlns=\"http://www.w3.org/2000/svg\" height=\"24px\" viewBox=\"0 -960 960 960\">\n",
              "    <path d=\"M120-120v-720h720v720H120Zm60-500h600v-160H180v160Zm220 220h160v-160H400v160Zm0 220h160v-160H400v160ZM180-400h160v-160H180v160Zm440 0h160v-160H620v160ZM180-180h160v-160H180v160Zm440 0h160v-160H620v160Z\"/>\n",
              "  </svg>\n",
              "    </button>\n",
              "\n",
              "  <style>\n",
              "    .colab-df-container {\n",
              "      display:flex;\n",
              "      gap: 12px;\n",
              "    }\n",
              "\n",
              "    .colab-df-convert {\n",
              "      background-color: #E8F0FE;\n",
              "      border: none;\n",
              "      border-radius: 50%;\n",
              "      cursor: pointer;\n",
              "      display: none;\n",
              "      fill: #1967D2;\n",
              "      height: 32px;\n",
              "      padding: 0 0 0 0;\n",
              "      width: 32px;\n",
              "    }\n",
              "\n",
              "    .colab-df-convert:hover {\n",
              "      background-color: #E2EBFA;\n",
              "      box-shadow: 0px 1px 2px rgba(60, 64, 67, 0.3), 0px 1px 3px 1px rgba(60, 64, 67, 0.15);\n",
              "      fill: #174EA6;\n",
              "    }\n",
              "\n",
              "    .colab-df-buttons div {\n",
              "      margin-bottom: 4px;\n",
              "    }\n",
              "\n",
              "    [theme=dark] .colab-df-convert {\n",
              "      background-color: #3B4455;\n",
              "      fill: #D2E3FC;\n",
              "    }\n",
              "\n",
              "    [theme=dark] .colab-df-convert:hover {\n",
              "      background-color: #434B5C;\n",
              "      box-shadow: 0px 1px 3px 1px rgba(0, 0, 0, 0.15);\n",
              "      filter: drop-shadow(0px 1px 2px rgba(0, 0, 0, 0.3));\n",
              "      fill: #FFFFFF;\n",
              "    }\n",
              "  </style>\n",
              "\n",
              "    <script>\n",
              "      const buttonEl =\n",
              "        document.querySelector('#df-d5d1405b-e3f5-4c8b-b972-2b4522c5b6bf button.colab-df-convert');\n",
              "      buttonEl.style.display =\n",
              "        google.colab.kernel.accessAllowed ? 'block' : 'none';\n",
              "\n",
              "      async function convertToInteractive(key) {\n",
              "        const element = document.querySelector('#df-d5d1405b-e3f5-4c8b-b972-2b4522c5b6bf');\n",
              "        const dataTable =\n",
              "          await google.colab.kernel.invokeFunction('convertToInteractive',\n",
              "                                                    [key], {});\n",
              "        if (!dataTable) return;\n",
              "\n",
              "        const docLinkHtml = 'Like what you see? Visit the ' +\n",
              "          '<a target=\"_blank\" href=https://colab.research.google.com/notebooks/data_table.ipynb>data table notebook</a>'\n",
              "          + ' to learn more about interactive tables.';\n",
              "        element.innerHTML = '';\n",
              "        dataTable['output_type'] = 'display_data';\n",
              "        await google.colab.output.renderOutput(dataTable, element);\n",
              "        const docLink = document.createElement('div');\n",
              "        docLink.innerHTML = docLinkHtml;\n",
              "        element.appendChild(docLink);\n",
              "      }\n",
              "    </script>\n",
              "  </div>\n",
              "\n",
              "\n",
              "<div id=\"df-885ea310-5187-4044-b5ea-33ec204928ab\">\n",
              "  <button class=\"colab-df-quickchart\" onclick=\"quickchart('df-885ea310-5187-4044-b5ea-33ec204928ab')\"\n",
              "            title=\"Suggest charts\"\n",
              "            style=\"display:none;\">\n",
              "\n",
              "<svg xmlns=\"http://www.w3.org/2000/svg\" height=\"24px\"viewBox=\"0 0 24 24\"\n",
              "     width=\"24px\">\n",
              "    <g>\n",
              "        <path d=\"M19 3H5c-1.1 0-2 .9-2 2v14c0 1.1.9 2 2 2h14c1.1 0 2-.9 2-2V5c0-1.1-.9-2-2-2zM9 17H7v-7h2v7zm4 0h-2V7h2v10zm4 0h-2v-4h2v4z\"/>\n",
              "    </g>\n",
              "</svg>\n",
              "  </button>\n",
              "\n",
              "<style>\n",
              "  .colab-df-quickchart {\n",
              "      --bg-color: #E8F0FE;\n",
              "      --fill-color: #1967D2;\n",
              "      --hover-bg-color: #E2EBFA;\n",
              "      --hover-fill-color: #174EA6;\n",
              "      --disabled-fill-color: #AAA;\n",
              "      --disabled-bg-color: #DDD;\n",
              "  }\n",
              "\n",
              "  [theme=dark] .colab-df-quickchart {\n",
              "      --bg-color: #3B4455;\n",
              "      --fill-color: #D2E3FC;\n",
              "      --hover-bg-color: #434B5C;\n",
              "      --hover-fill-color: #FFFFFF;\n",
              "      --disabled-bg-color: #3B4455;\n",
              "      --disabled-fill-color: #666;\n",
              "  }\n",
              "\n",
              "  .colab-df-quickchart {\n",
              "    background-color: var(--bg-color);\n",
              "    border: none;\n",
              "    border-radius: 50%;\n",
              "    cursor: pointer;\n",
              "    display: none;\n",
              "    fill: var(--fill-color);\n",
              "    height: 32px;\n",
              "    padding: 0;\n",
              "    width: 32px;\n",
              "  }\n",
              "\n",
              "  .colab-df-quickchart:hover {\n",
              "    background-color: var(--hover-bg-color);\n",
              "    box-shadow: 0 1px 2px rgba(60, 64, 67, 0.3), 0 1px 3px 1px rgba(60, 64, 67, 0.15);\n",
              "    fill: var(--button-hover-fill-color);\n",
              "  }\n",
              "\n",
              "  .colab-df-quickchart-complete:disabled,\n",
              "  .colab-df-quickchart-complete:disabled:hover {\n",
              "    background-color: var(--disabled-bg-color);\n",
              "    fill: var(--disabled-fill-color);\n",
              "    box-shadow: none;\n",
              "  }\n",
              "\n",
              "  .colab-df-spinner {\n",
              "    border: 2px solid var(--fill-color);\n",
              "    border-color: transparent;\n",
              "    border-bottom-color: var(--fill-color);\n",
              "    animation:\n",
              "      spin 1s steps(1) infinite;\n",
              "  }\n",
              "\n",
              "  @keyframes spin {\n",
              "    0% {\n",
              "      border-color: transparent;\n",
              "      border-bottom-color: var(--fill-color);\n",
              "      border-left-color: var(--fill-color);\n",
              "    }\n",
              "    20% {\n",
              "      border-color: transparent;\n",
              "      border-left-color: var(--fill-color);\n",
              "      border-top-color: var(--fill-color);\n",
              "    }\n",
              "    30% {\n",
              "      border-color: transparent;\n",
              "      border-left-color: var(--fill-color);\n",
              "      border-top-color: var(--fill-color);\n",
              "      border-right-color: var(--fill-color);\n",
              "    }\n",
              "    40% {\n",
              "      border-color: transparent;\n",
              "      border-right-color: var(--fill-color);\n",
              "      border-top-color: var(--fill-color);\n",
              "    }\n",
              "    60% {\n",
              "      border-color: transparent;\n",
              "      border-right-color: var(--fill-color);\n",
              "    }\n",
              "    80% {\n",
              "      border-color: transparent;\n",
              "      border-right-color: var(--fill-color);\n",
              "      border-bottom-color: var(--fill-color);\n",
              "    }\n",
              "    90% {\n",
              "      border-color: transparent;\n",
              "      border-bottom-color: var(--fill-color);\n",
              "    }\n",
              "  }\n",
              "</style>\n",
              "\n",
              "  <script>\n",
              "    async function quickchart(key) {\n",
              "      const quickchartButtonEl =\n",
              "        document.querySelector('#' + key + ' button');\n",
              "      quickchartButtonEl.disabled = true;  // To prevent multiple clicks.\n",
              "      quickchartButtonEl.classList.add('colab-df-spinner');\n",
              "      try {\n",
              "        const charts = await google.colab.kernel.invokeFunction(\n",
              "            'suggestCharts', [key], {});\n",
              "      } catch (error) {\n",
              "        console.error('Error during call to suggestCharts:', error);\n",
              "      }\n",
              "      quickchartButtonEl.classList.remove('colab-df-spinner');\n",
              "      quickchartButtonEl.classList.add('colab-df-quickchart-complete');\n",
              "    }\n",
              "    (() => {\n",
              "      let quickchartButtonEl =\n",
              "        document.querySelector('#df-885ea310-5187-4044-b5ea-33ec204928ab button');\n",
              "      quickchartButtonEl.style.display =\n",
              "        google.colab.kernel.accessAllowed ? 'block' : 'none';\n",
              "    })();\n",
              "  </script>\n",
              "</div>\n",
              "\n",
              "    </div>\n",
              "  </div>\n"
            ],
            "application/vnd.google.colaboratory.intrinsic+json": {
              "type": "dataframe",
              "variable_name": "data",
              "summary": "{\n  \"name\": \"data\",\n  \"rows\": 95000,\n  \"fields\": [\n    {\n      \"column\": \"english\",\n      \"properties\": {\n        \"dtype\": \"string\",\n        \"num_unique_values\": 84201,\n        \"samples\": [\n          \"Tom should apologize to Mary for being so rude to her mother.\",\n          \"What are you doing this evening?\",\n          \"The robbers made away with all the money in the safe.\"\n        ],\n        \"semantic_type\": \"\",\n        \"description\": \"\"\n      }\n    },\n    {\n      \"column\": \"spanish\",\n      \"properties\": {\n        \"dtype\": \"string\",\n        \"num_unique_values\": 91322,\n        \"samples\": [\n          \"Adem\\u00e1s, a\\u00fan as\\u00ed pienso que esto no es una diferencia cultural enorme.\",\n          \"Hace demasiado calor.\",\n          \"Tom no se puede acordar de d\\u00f3nde se compr\\u00f3 sus calcetines rosados.\"\n        ],\n        \"semantic_type\": \"\",\n        \"description\": \"\"\n      }\n    }\n  ]\n}"
            }
          },
          "metadata": {},
          "execution_count": 3
        }
      ]
    },
    {
      "cell_type": "code",
      "source": [
        "data.info()"
      ],
      "metadata": {
        "colab": {
          "base_uri": "https://localhost:8080/"
        },
        "id": "WJwBmUlS6KlJ",
        "outputId": "4dcb9fad-b52a-4f9f-dcbb-21b741ec12c8"
      },
      "execution_count": 4,
      "outputs": [
        {
          "output_type": "stream",
          "name": "stdout",
          "text": [
            "<class 'pandas.core.frame.DataFrame'>\n",
            "Index: 95000 entries, 88516 to 109908\n",
            "Data columns (total 2 columns):\n",
            " #   Column   Non-Null Count  Dtype \n",
            "---  ------   --------------  ----- \n",
            " 0   english  95000 non-null  object\n",
            " 1   spanish  95000 non-null  object\n",
            "dtypes: object(2)\n",
            "memory usage: 2.2+ MB\n"
          ]
        }
      ]
    },
    {
      "cell_type": "code",
      "source": [
        "#@title Train-Val-Test Split\n",
        "\n",
        "# swapping the spanish set and english set as inputs so\n",
        "# we can train the model to translate from span to eng\n",
        "X_train, X_rest, y_train, y_rest = train_test_split(data.spanish, data.english,\n",
        "                                                            test_size=0.4,\n",
        "                                                            random_state=42)\n",
        "\n",
        "X_val, X_test, y_val, y_test = train_test_split(X_rest, y_rest,\n",
        "                                                            test_size=0.5,\n",
        "                                                            random_state=42)\n",
        "\n",
        "print(f\"Number of training samples   : {len(X_train)}\")\n",
        "print(f\"Number of validation samples : {len(X_val)}\")\n",
        "print(f\"Number of test samples       : {len(X_test)}\")"
      ],
      "metadata": {
        "colab": {
          "base_uri": "https://localhost:8080/"
        },
        "id": "6ldfdgHn1Buc",
        "outputId": "b12078d6-cddb-474d-92f3-748d7c2077e2"
      },
      "execution_count": 5,
      "outputs": [
        {
          "output_type": "stream",
          "name": "stdout",
          "text": [
            "Number of training samples   : 57000\n",
            "Number of validation samples : 19000\n",
            "Number of test samples       : 19000\n"
          ]
        }
      ]
    },
    {
      "cell_type": "code",
      "source": [
        "def to_list(dataset):\n",
        "  \"\"\"\n",
        "  converting from type df to type lst\n",
        "\n",
        "  dataset : (type pd.core.series.Series)\n",
        "  \"\"\"\n",
        "  return dataset.tolist()"
      ],
      "metadata": {
        "id": "h36I2ySx1SXQ"
      },
      "execution_count": 6,
      "outputs": []
    },
    {
      "cell_type": "code",
      "source": [
        "#@title Saving the data splits as lists\n",
        "\n",
        "X_train = to_list(X_train)\n",
        "X_val = to_list(X_val)\n",
        "X_test = to_list(X_test)\n",
        "y_train = to_list(y_train)\n",
        "y_val = to_list(y_val)\n",
        "y_test = to_list(y_test)"
      ],
      "metadata": {
        "id": "gEYbmF3D33Ru"
      },
      "execution_count": 7,
      "outputs": []
    },
    {
      "cell_type": "code",
      "source": [
        "#@title Test if the conversion worked\n",
        "\n",
        "type(X_train) == list"
      ],
      "metadata": {
        "colab": {
          "base_uri": "https://localhost:8080/"
        },
        "id": "VzWv6IB54UNl",
        "outputId": "cce6b69c-7054-40f4-b3d6-f01fa5de824b"
      },
      "execution_count": 8,
      "outputs": [
        {
          "output_type": "execute_result",
          "data": {
            "text/plain": [
              "True"
            ]
          },
          "metadata": {},
          "execution_count": 8
        }
      ]
    },
    {
      "cell_type": "code",
      "source": [
        "#@title Generating samples for translating\n",
        "samples_test = []\n",
        "for i in range(100):\n",
        "  rand_idx = random.choice(range(len(X_test)))\n",
        "  source = X_test[rand_idx]\n",
        "  target = y_test[rand_idx]\n",
        "  samples_test.append((source, target))"
      ],
      "metadata": {
        "id": "xk-uUL3NDKcB"
      },
      "execution_count": 9,
      "outputs": []
    },
    {
      "cell_type": "code",
      "source": [
        "#@title Saving data splits in external file\n",
        "\n",
        "import pickle\n",
        "\n",
        "SAVED_PKL_PATH = \"./data_splits.pkl\"\n",
        "\n",
        "# Open a file and use dump()\n",
        "with open(SAVED_PKL_PATH, 'wb') as file:\n",
        "\n",
        "    # A new file will be created\n",
        "    pickle.dump((\n",
        "        X_train,\n",
        "        X_val,\n",
        "        X_test,\n",
        "        y_train,\n",
        "        y_val,\n",
        "        y_test,\n",
        "        samples_test\n",
        "    ), file)"
      ],
      "metadata": {
        "id": "Y5ujByfZ4c-g"
      },
      "execution_count": 11,
      "outputs": []
    },
    {
      "cell_type": "code",
      "source": [],
      "metadata": {
        "id": "Jx2kdhQR5nw5"
      },
      "execution_count": 10,
      "outputs": []
    }
  ]
}